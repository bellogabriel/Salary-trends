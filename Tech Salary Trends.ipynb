{
 "cells": [
  {
   "cell_type": "markdown",
   "id": "88d28532-83f5-40bb-bf1e-99f14dc1ea6e",
   "metadata": {},
   "source": [
    "## **ALTSCHOOL FIRST SEMESTER EXAM PROJECT: CAREER ATLAS INC.**\n",
    "\n",
    "### *Task: Clean and analyze a dataset containing job salary details to support a reliable salary trend report*"
   ]
  },
  {
   "cell_type": "code",
   "execution_count": 6,
   "id": "193c06cb-a620-4461-8d68-575404b8230b",
   "metadata": {},
   "outputs": [],
   "source": [
    "# TASK 1 - CLEAN AND VALIDATE THE SALARY  DATASET\n",
    "\n",
    "# Import necessary package\n",
    "import pandas as pd\n",
    "import matplotlib.pyplot as plt"
   ]
  },
  {
   "cell_type": "code",
   "execution_count": 8,
   "id": "e9af08af-8330-4c79-a61a-ceecc7d50aa5",
   "metadata": {},
   "outputs": [
    {
     "data": {
      "text/html": [
       "<div>\n",
       "<style scoped>\n",
       "    .dataframe tbody tr th:only-of-type {\n",
       "        vertical-align: middle;\n",
       "    }\n",
       "\n",
       "    .dataframe tbody tr th {\n",
       "        vertical-align: top;\n",
       "    }\n",
       "\n",
       "    .dataframe thead th {\n",
       "        text-align: right;\n",
       "    }\n",
       "</style>\n",
       "<table border=\"1\" class=\"dataframe\">\n",
       "  <thead>\n",
       "    <tr style=\"text-align: right;\">\n",
       "      <th></th>\n",
       "      <th>work_year</th>\n",
       "      <th>experience_level</th>\n",
       "      <th>employment_type</th>\n",
       "      <th>job_title</th>\n",
       "      <th>salary_in_usd</th>\n",
       "      <th>remote_ratio</th>\n",
       "      <th>company_location</th>\n",
       "      <th>company_size</th>\n",
       "    </tr>\n",
       "  </thead>\n",
       "  <tbody>\n",
       "    <tr>\n",
       "      <th>0</th>\n",
       "      <td>2022</td>\n",
       "      <td>SE</td>\n",
       "      <td>CT</td>\n",
       "      <td>Data Scientist</td>\n",
       "      <td>42183.0</td>\n",
       "      <td>50</td>\n",
       "      <td>IN</td>\n",
       "      <td>L</td>\n",
       "    </tr>\n",
       "    <tr>\n",
       "      <th>1</th>\n",
       "      <td>2023</td>\n",
       "      <td>MI</td>\n",
       "      <td>FL</td>\n",
       "      <td>Data Scientist</td>\n",
       "      <td>190371.0</td>\n",
       "      <td>100</td>\n",
       "      <td>IN</td>\n",
       "      <td>S</td>\n",
       "    </tr>\n",
       "    <tr>\n",
       "      <th>2</th>\n",
       "      <td>2020</td>\n",
       "      <td>MI</td>\n",
       "      <td>CT</td>\n",
       "      <td>DS</td>\n",
       "      <td>173946.0</td>\n",
       "      <td>50</td>\n",
       "      <td>IN</td>\n",
       "      <td>L</td>\n",
       "    </tr>\n",
       "    <tr>\n",
       "      <th>3</th>\n",
       "      <td>2022</td>\n",
       "      <td>NaN</td>\n",
       "      <td>FT</td>\n",
       "      <td>ML Engineer</td>\n",
       "      <td>146336.0</td>\n",
       "      <td>50</td>\n",
       "      <td>DE</td>\n",
       "      <td>S</td>\n",
       "    </tr>\n",
       "    <tr>\n",
       "      <th>4</th>\n",
       "      <td>2022</td>\n",
       "      <td>MI</td>\n",
       "      <td>FL</td>\n",
       "      <td>ML Engineer</td>\n",
       "      <td>9999999.0</td>\n",
       "      <td>100</td>\n",
       "      <td>NG</td>\n",
       "      <td>L</td>\n",
       "    </tr>\n",
       "  </tbody>\n",
       "</table>\n",
       "</div>"
      ],
      "text/plain": [
       "   work_year experience_level employment_type       job_title  salary_in_usd  \\\n",
       "0       2022               SE              CT  Data Scientist        42183.0   \n",
       "1       2023               MI              FL  Data Scientist       190371.0   \n",
       "2       2020               MI              CT              DS       173946.0   \n",
       "3       2022              NaN              FT     ML Engineer       146336.0   \n",
       "4       2022               MI              FL     ML Engineer      9999999.0   \n",
       "\n",
       "   remote_ratio company_location company_size  \n",
       "0            50               IN            L  \n",
       "1           100               IN            S  \n",
       "2            50               IN            L  \n",
       "3            50               DE            S  \n",
       "4           100               NG            L  "
      ]
     },
     "execution_count": 8,
     "metadata": {},
     "output_type": "execute_result"
    }
   ],
   "source": [
    "# Pick the dataset: salary_data\n",
    "salary_data = 'ds_salaries_dirty.csv'\n",
    "\n",
    "# Load the dataset into a dataframe: salary_df\n",
    "salary_df = pd.read_csv(salary_data)\n",
    "\n",
    "# View the first 5 rows\n",
    "salary_df.head()"
   ]
  },
  {
   "cell_type": "code",
   "execution_count": 10,
   "id": "b4cb3b7e-aba7-49f3-b7b9-b2435f6b073d",
   "metadata": {},
   "outputs": [
    {
     "data": {
      "text/plain": [
       "(100, 8)"
      ]
     },
     "execution_count": 10,
     "metadata": {},
     "output_type": "execute_result"
    }
   ],
   "source": [
    "# Check the dimension of the dataset : \n",
    "salary_df.shape # SHOWS 100 ENTRIES and 8 features excluding the index column\n"
   ]
  },
  {
   "cell_type": "code",
   "execution_count": 12,
   "id": "60eebeb7-337b-44fe-93b9-f731ab0651f0",
   "metadata": {},
   "outputs": [
    {
     "data": {
      "text/plain": [
       "Index(['work_year', 'experience_level', 'employment_type', 'job_title',\n",
       "       'salary_in_usd', 'remote_ratio', 'company_location', 'company_size'],\n",
       "      dtype='object')"
      ]
     },
     "execution_count": 12,
     "metadata": {},
     "output_type": "execute_result"
    }
   ],
   "source": [
    "# Check the column names\n",
    "salary_df.columns # There are no redundant features\n"
   ]
  },
  {
   "cell_type": "code",
   "execution_count": 14,
   "id": "d5788fa0-c0d5-4c26-8fc9-f2a6d7bd2314",
   "metadata": {},
   "outputs": [
    {
     "data": {
      "text/plain": [
       "0"
      ]
     },
     "execution_count": 14,
     "metadata": {},
     "output_type": "execute_result"
    }
   ],
   "source": [
    "# STEP 1: Inspect the data and identify the missing values\n",
    "\n",
    "# Are there duplicates?\n",
    "salary_df.duplicated().sum()"
   ]
  },
  {
   "cell_type": "code",
   "execution_count": 20,
   "id": "9804af90-fc53-41c5-a73a-c90b100b3d0c",
   "metadata": {},
   "outputs": [
    {
     "name": "stdout",
     "output_type": "stream",
     "text": [
      "<class 'pandas.core.frame.DataFrame'>\n",
      "RangeIndex: 100 entries, 0 to 99\n",
      "Data columns (total 8 columns):\n",
      " #   Column            Non-Null Count  Dtype  \n",
      "---  ------            --------------  -----  \n",
      " 0   work_year         100 non-null    int64  \n",
      " 1   experience_level  90 non-null     object \n",
      " 2   employment_type   92 non-null     object \n",
      " 3   job_title         100 non-null    object \n",
      " 4   salary_in_usd     96 non-null     float64\n",
      " 5   remote_ratio      100 non-null    int64  \n",
      " 6   company_location  94 non-null     object \n",
      " 7   company_size      100 non-null    object \n",
      "dtypes: float64(1), int64(2), object(5)\n",
      "memory usage: 6.4+ KB\n"
     ]
    }
   ],
   "source": [
    "# Check the dataset general information\n",
    "salary_df.info()\n",
    "\n",
    "# Observed some missingness in the data, but the datatypes are all fine"
   ]
  },
  {
   "cell_type": "code",
   "execution_count": 22,
   "id": "1420cea7-fa91-4e9c-97de-f0fa5141aac9",
   "metadata": {},
   "outputs": [
    {
     "data": {
      "text/plain": [
       "work_year            0\n",
       "experience_level    10\n",
       "employment_type      8\n",
       "job_title            0\n",
       "salary_in_usd        4\n",
       "remote_ratio         0\n",
       "company_location     6\n",
       "company_size         0\n",
       "dtype: int64"
      ]
     },
     "execution_count": 22,
     "metadata": {},
     "output_type": "execute_result"
    }
   ],
   "source": [
    "# Check missingness in the columns: WHERE ARE THE MISSING VALUES?\n",
    "salary_df.isna().sum()"
   ]
  },
  {
   "cell_type": "code",
   "execution_count": 24,
   "id": "d4f431cc-9a4b-462b-b9ed-d3cb9f49dadf",
   "metadata": {},
   "outputs": [
    {
     "data": {
      "text/plain": [
       "count     90\n",
       "unique     4\n",
       "top       SE\n",
       "freq      28\n",
       "Name: experience_level, dtype: object"
      ]
     },
     "execution_count": 24,
     "metadata": {},
     "output_type": "execute_result"
    }
   ],
   "source": [
    "# STEP 2: Check Summary Statistics for columns with missing values\n",
    "\n",
    "# Check the summary statistics of the experience level column\n",
    "salary_df['experience_level'].describe()"
   ]
  },
  {
   "cell_type": "code",
   "execution_count": 26,
   "id": "051f50a1-c856-4520-b033-08446377fdfd",
   "metadata": {},
   "outputs": [
    {
     "data": {
      "text/plain": [
       "count     92\n",
       "unique     4\n",
       "top       FT\n",
       "freq      25\n",
       "Name: employment_type, dtype: object"
      ]
     },
     "execution_count": 26,
     "metadata": {},
     "output_type": "execute_result"
    }
   ],
   "source": [
    "# Check the summary statistics of the employment type column\n",
    "salary_df['employment_type'].describe()"
   ]
  },
  {
   "cell_type": "code",
   "execution_count": 28,
   "id": "6f699d35-70d3-4f18-9e47-69b3b0d16c9e",
   "metadata": {},
   "outputs": [
    {
     "data": {
      "text/plain": [
       "count     94\n",
       "unique     5\n",
       "top       IN\n",
       "freq      24\n",
       "Name: company_location, dtype: object"
      ]
     },
     "execution_count": 28,
     "metadata": {},
     "output_type": "execute_result"
    }
   ],
   "source": [
    "# Check the summary statistics of the company location column\n",
    "salary_df['company_location'].describe()"
   ]
  },
  {
   "cell_type": "code",
   "execution_count": 30,
   "id": "8e53e463-3a91-4744-8f32-4aaa30ceb232",
   "metadata": {},
   "outputs": [
    {
     "data": {
      "text/plain": [
       "count        96\n",
       "mean     299482\n",
       "std     1118097\n",
       "min          50\n",
       "25%       95096\n",
       "50%      156257\n",
       "75%      202994\n",
       "max     9999999\n",
       "Name: salary_in_usd, dtype: float64"
      ]
     },
     "execution_count": 30,
     "metadata": {},
     "output_type": "execute_result"
    }
   ],
   "source": [
    "# Display the summary statistics of the salary in USD feature and format to show in easily readable format\n",
    "pd.options.display.float_format = '{:.0f}'.format\n",
    "\n",
    "salary_df['salary_in_usd'].describe()"
   ]
  },
  {
   "cell_type": "code",
   "execution_count": 38,
   "id": "61b11aa8-1b89-4a1f-8fe7-c76dff806335",
   "metadata": {},
   "outputs": [
    {
     "name": "stdout",
     "output_type": "stream",
     "text": [
      "The Median value for the salaries in the dataset is: $156,257\n"
     ]
    }
   ],
   "source": [
    "# Calculate the median of the salary: This is also the 50th percentile\n",
    "salary_median = salary_df.salary_in_usd.median()\n",
    "\n",
    "# Display the value for the median salary with appropriate formatting\n",
    "print('The Median value for the salaries in the dataset is: ${:,.0f}'.format(salary_median))"
   ]
  },
  {
   "cell_type": "markdown",
   "id": "0937c1e7-0272-4b25-8cdf-04f427b2890b",
   "metadata": {},
   "source": [
    "#### **Discussing the missingness in the data**\n",
    "\n",
    "- The experience level column shows the highest number of missing values which is equivalent of 10% of our entries. Because of this, we will have to perform some data inputation to avoid lossing that potion of the data. Since this data is categorical and ordinal in nature, it would be safe to fill the missing values with the lowest level of experience.\n",
    "  \n",
    "- The employment type also has 8% missingness. This value is observed to be categorical and nominal. The summary statistics shows that there are 4 unique values and the most occurred is FT likely an accronym for **FULL-TIME**. As a result we will be replacing the missing values with FT.\n",
    "\n",
    "- The company location has 6 missing values. Although this data is categorical and nominal, we will be filling the missing values with US. This is as per the directive from *Career Atlas Inc representation* who was the source of the data.\n",
    "\n",
    "- The column with the least number of missing values is the Salary in US Dollars. Here, there are 4 missing values and since it is a numerical data, we will simply fill the missing values with the median."
   ]
  },
  {
   "cell_type": "code",
   "execution_count": 43,
   "id": "f8c437e6-915c-4bc2-a0a2-a262777849d8",
   "metadata": {},
   "outputs": [
    {
     "data": {
      "text/plain": [
       "experience_level\n",
       "SE    28\n",
       "EN    23\n",
       "EX    21\n",
       "MI    18\n",
       "Name: count, dtype: int64"
      ]
     },
     "execution_count": 43,
     "metadata": {},
     "output_type": "execute_result"
    }
   ],
   "source": [
    "# STEP 3: Before replacing the missing values, check for consistency in the data entries in each column with missing values\n",
    "\n",
    "# Experience level shows 4 unique entries\n",
    "salary_df['experience_level'].value_counts()"
   ]
  },
  {
   "cell_type": "code",
   "execution_count": 45,
   "id": "f11b4841-8f7f-41b2-bbc0-56e8006c4eb9",
   "metadata": {},
   "outputs": [
    {
     "data": {
      "text/plain": [
       "employment_type\n",
       "FT    25\n",
       "FL    24\n",
       "CT    22\n",
       "PT    21\n",
       "Name: count, dtype: int64"
      ]
     },
     "execution_count": 45,
     "metadata": {},
     "output_type": "execute_result"
    }
   ],
   "source": [
    "# Employment type shows 4 unique entries\n",
    "salary_df['employment_type'].value_counts()"
   ]
  },
  {
   "cell_type": "code",
   "execution_count": 47,
   "id": "3d23def1-77e7-4e7b-85ff-72cc88d9cc97",
   "metadata": {},
   "outputs": [
    {
     "data": {
      "text/plain": [
       "company_location\n",
       "IN    24\n",
       "GB    22\n",
       "NG    18\n",
       "US    17\n",
       "DE    13\n",
       "Name: count, dtype: int64"
      ]
     },
     "execution_count": 47,
     "metadata": {},
     "output_type": "execute_result"
    }
   ],
   "source": [
    "# Experience level shows 5 unique entries\n",
    "salary_df['company_location'].value_counts()"
   ]
  },
  {
   "cell_type": "code",
   "execution_count": 49,
   "id": "231290e6-789c-4fa6-a40a-f593da71bdc1",
   "metadata": {},
   "outputs": [
    {
     "data": {
      "text/html": [
       "<div>\n",
       "<style scoped>\n",
       "    .dataframe tbody tr th:only-of-type {\n",
       "        vertical-align: middle;\n",
       "    }\n",
       "\n",
       "    .dataframe tbody tr th {\n",
       "        vertical-align: top;\n",
       "    }\n",
       "\n",
       "    .dataframe thead th {\n",
       "        text-align: right;\n",
       "    }\n",
       "</style>\n",
       "<table border=\"1\" class=\"dataframe\">\n",
       "  <thead>\n",
       "    <tr style=\"text-align: right;\">\n",
       "      <th></th>\n",
       "      <th>work_year</th>\n",
       "      <th>experience_level</th>\n",
       "      <th>employment_type</th>\n",
       "      <th>job_title</th>\n",
       "      <th>salary_in_usd</th>\n",
       "      <th>remote_ratio</th>\n",
       "      <th>company_location</th>\n",
       "      <th>company_size</th>\n",
       "    </tr>\n",
       "  </thead>\n",
       "  <tbody>\n",
       "    <tr>\n",
       "      <th>0</th>\n",
       "      <td>2022</td>\n",
       "      <td>SE</td>\n",
       "      <td>CT</td>\n",
       "      <td>Data Scientist</td>\n",
       "      <td>42183</td>\n",
       "      <td>50</td>\n",
       "      <td>IN</td>\n",
       "      <td>L</td>\n",
       "    </tr>\n",
       "    <tr>\n",
       "      <th>1</th>\n",
       "      <td>2023</td>\n",
       "      <td>MI</td>\n",
       "      <td>FL</td>\n",
       "      <td>Data Scientist</td>\n",
       "      <td>190371</td>\n",
       "      <td>100</td>\n",
       "      <td>IN</td>\n",
       "      <td>S</td>\n",
       "    </tr>\n",
       "    <tr>\n",
       "      <th>2</th>\n",
       "      <td>2020</td>\n",
       "      <td>MI</td>\n",
       "      <td>CT</td>\n",
       "      <td>DS</td>\n",
       "      <td>173946</td>\n",
       "      <td>50</td>\n",
       "      <td>IN</td>\n",
       "      <td>L</td>\n",
       "    </tr>\n",
       "    <tr>\n",
       "      <th>3</th>\n",
       "      <td>2022</td>\n",
       "      <td>NaN</td>\n",
       "      <td>FT</td>\n",
       "      <td>ML Engineer</td>\n",
       "      <td>146336</td>\n",
       "      <td>50</td>\n",
       "      <td>DE</td>\n",
       "      <td>S</td>\n",
       "    </tr>\n",
       "    <tr>\n",
       "      <th>4</th>\n",
       "      <td>2022</td>\n",
       "      <td>MI</td>\n",
       "      <td>FL</td>\n",
       "      <td>ML Engineer</td>\n",
       "      <td>9999999</td>\n",
       "      <td>100</td>\n",
       "      <td>NG</td>\n",
       "      <td>L</td>\n",
       "    </tr>\n",
       "  </tbody>\n",
       "</table>\n",
       "</div>"
      ],
      "text/plain": [
       "   work_year experience_level employment_type       job_title  salary_in_usd  \\\n",
       "0       2022               SE              CT  Data Scientist          42183   \n",
       "1       2023               MI              FL  Data Scientist         190371   \n",
       "2       2020               MI              CT              DS         173946   \n",
       "3       2022              NaN              FT     ML Engineer         146336   \n",
       "4       2022               MI              FL     ML Engineer        9999999   \n",
       "\n",
       "   remote_ratio company_location company_size  \n",
       "0            50               IN            L  \n",
       "1           100               IN            S  \n",
       "2            50               IN            L  \n",
       "3            50               DE            S  \n",
       "4           100               NG            L  "
      ]
     },
     "execution_count": 49,
     "metadata": {},
     "output_type": "execute_result"
    }
   ],
   "source": [
    "# STEP 4: Tackle the missing values\n",
    "\n",
    "# Make a copy of the dataset as reserve before filling missing values\n",
    "salary_df_reserved = salary_df.copy()\n",
    "\n",
    "salary_df_reserved.head()"
   ]
  },
  {
   "cell_type": "code",
   "execution_count": 85,
   "id": "1905bd37-ce08-4d4a-b661-91cff4e7892a",
   "metadata": {},
   "outputs": [],
   "source": [
    "# Create a Function to check if missing values have been filled successfully\n",
    "def missing_values_filled(check):\n",
    "    '''This function takes an argument that is an integer and checks if the value is equal to 0.\n",
    "        It displays successful for True and unsuccessful for False.'''\n",
    "    \n",
    "    if check == 0:\n",
    "        print('Missing values have been filled successfully\\n')\n",
    "    else:\n",
    "        print('Missing values are still present in this column, please try again\\n')"
   ]
  },
  {
   "cell_type": "code",
   "execution_count": 59,
   "id": "ed08a2f0-1a32-4945-8f23-886aa66d58ce",
   "metadata": {},
   "outputs": [
    {
     "name": "stdout",
     "output_type": "stream",
     "text": [
      "Missing values have been filled successfully\n",
      "\n"
     ]
    }
   ],
   "source": [
    "# Fill the missing values in the experience level column\n",
    "salary_df['experience_level'].fillna('EN', inplace=True)\n",
    "\n",
    "# Check if the fill was correctedly done\n",
    "check = salary_df.experience_level.isna().sum()\n",
    "missing_values_filled(check)"
   ]
  },
  {
   "cell_type": "code",
   "execution_count": 65,
   "id": "5e286fb9-d4cb-4108-831a-7d86610bc40a",
   "metadata": {},
   "outputs": [
    {
     "name": "stdout",
     "output_type": "stream",
     "text": [
      "Missing values have been filled successfully\n",
      "\n"
     ]
    }
   ],
   "source": [
    "# Fill the missing values in the employment type column\n",
    "salary_df['employment_type'].fillna('FT', inplace=True)\n",
    "\n",
    "# Check if fill was correctedly done\n",
    "check = salary_df.employment_type.isna().sum()\n",
    "missing_values_filled(check)"
   ]
  },
  {
   "cell_type": "code",
   "execution_count": 69,
   "id": "4084b26c-c8fe-4f37-9eda-61ef26ee2514",
   "metadata": {},
   "outputs": [
    {
     "name": "stdout",
     "output_type": "stream",
     "text": [
      "Missing values have been filled successfully\n",
      "\n"
     ]
    }
   ],
   "source": [
    "# Fill the missing values in the company location column\n",
    "salary_df['company_location'].fillna('US', inplace=True)\n",
    "\n",
    "# Check if fill was correctedly done\n",
    "check = salary_df.company_location.isna().sum()\n",
    "missing_values_filled(check)"
   ]
  },
  {
   "cell_type": "code",
   "execution_count": 77,
   "id": "47303982-2429-4aa3-a32e-7383148746b0",
   "metadata": {},
   "outputs": [
    {
     "name": "stdout",
     "output_type": "stream",
     "text": [
      "Missing values have been filled successfully\n",
      "\n"
     ]
    },
    {
     "name": "stderr",
     "output_type": "stream",
     "text": [
      "C:\\Users\\USER\\AppData\\Local\\Temp\\ipykernel_4740\\199110469.py:2: FutureWarning: A value is trying to be set on a copy of a DataFrame or Series through chained assignment using an inplace method.\n",
      "The behavior will change in pandas 3.0. This inplace method will never work because the intermediate object on which we are setting values always behaves as a copy.\n",
      "\n",
      "For example, when doing 'df[col].method(value, inplace=True)', try using 'df.method({col: value}, inplace=True)' or df[col] = df[col].method(value) instead, to perform the operation inplace on the original object.\n",
      "\n",
      "\n",
      "  salary_df['salary_in_usd'].fillna(salary_median, inplace=True)\n"
     ]
    }
   ],
   "source": [
    "# Fill the missing values in the salary column with the salary_median\n",
    "salary_df['salary_in_usd'].fillna(salary_median, inplace=True)\n",
    "\n",
    "# Check if fill was correctedly done\n",
    "check = salary_df.salary_in_usd.isna().sum()\n",
    "missing_values_filled(check)"
   ]
  },
  {
   "cell_type": "code",
   "execution_count": 79,
   "id": "318037f1-fce7-462d-b8f1-542334eda095",
   "metadata": {},
   "outputs": [
    {
     "data": {
      "text/plain": [
       "work_year           0\n",
       "experience_level    0\n",
       "employment_type     0\n",
       "job_title           0\n",
       "salary_in_usd       0\n",
       "remote_ratio        0\n",
       "company_location    0\n",
       "company_size        0\n",
       "dtype: int64"
      ]
     },
     "execution_count": 79,
     "metadata": {},
     "output_type": "execute_result"
    }
   ],
   "source": [
    "# Check if there are any missing data\n",
    "salary_df.isnull().sum()"
   ]
  },
  {
   "cell_type": "code",
   "execution_count": 81,
   "id": "c0a9ad5d-3212-47f0-9b91-4d736afc566f",
   "metadata": {},
   "outputs": [
    {
     "data": {
      "text/plain": [
       "job_title\n",
       "AI Specialist     32\n",
       "Data Analyst      24\n",
       "Data Scientist    21\n",
       "ML Engineer       18\n",
       "DS                 5\n",
       "Name: count, dtype: int64"
      ]
     },
     "execution_count": 81,
     "metadata": {},
     "output_type": "execute_result"
    }
   ],
   "source": [
    "# STEP 5: Check data Consistency in the Job title column\n",
    "\n",
    "# Check if all entries are valid\n",
    "salary_df['job_title'].value_counts()"
   ]
  },
  {
   "cell_type": "code",
   "execution_count": 91,
   "id": "00a099a9-99f1-4904-afcd-fa22abfb7191",
   "metadata": {},
   "outputs": [
    {
     "data": {
      "text/plain": [
       "(95, 8)"
      ]
     },
     "execution_count": 91,
     "metadata": {},
     "output_type": "execute_result"
    }
   ],
   "source": [
    "# DS could either be Data Scientist or something else, but since we cannot be sure, we will drop them \n",
    "salary_df = salary_df[salary_df['job_title'] != 'DS']\n",
    "\n",
    "salary_df.shape # This shows that we have now lost 5 observations which is 5% of our dataset"
   ]
  },
  {
   "cell_type": "markdown",
   "id": "708ff05e-b436-4d91-872e-d849e4fd7dd9",
   "metadata": {},
   "source": [
    "##### STEP 6: *Identifying and dealing with Outliers in the Salary Column*\n",
    "\n",
    "- For this case, the assumption is that an outlier is any value that is less than USD10,000 or greater than USD1,000,000\n",
    "  \n",
    "- These outliers will be replaced with the Salary median value"
   ]
  },
  {
   "cell_type": "code",
   "execution_count": 98,
   "id": "269de271-88b9-4052-abed-b13c53f9e2ae",
   "metadata": {},
   "outputs": [
    {
     "data": {
      "text/plain": [
       "<Axes: >"
      ]
     },
     "execution_count": 98,
     "metadata": {},
     "output_type": "execute_result"
    },
    {
     "data": {
      "image/png": "[encoded data removed]",
      "text/plain": [
       "<Figure size 640x480 with 1 Axes>"
      ]
     },
     "metadata": {},
     "output_type": "display_data"
    }
   ],
   "source": [
    "# First, Make a simple box plot to see how the values are spread\n",
    "salary_df['salary_in_usd'].plot(kind='box') # The outliers are clearly shown here"
   ]
  },
  {
   "cell_type": "code",
   "execution_count": 100,
   "id": "c45a90ce-9c9d-4714-95cc-8276dcdeab38",
   "metadata": {},
   "outputs": [
    {
     "data": {
      "text/plain": [
       "1"
      ]
     },
     "execution_count": 100,
     "metadata": {},
     "output_type": "execute_result"
    }
   ],
   "source": [
    "# How many values are below the lower limit: less than 10,000\n",
    "(salary_df['salary_in_usd'] <= 10000).sum()\n"
   ]
  },
  {
   "cell_type": "code",
   "execution_count": 104,
   "id": "110f7308-6267-41ab-915f-7921ec8c01ba",
   "metadata": {},
   "outputs": [
    {
     "data": {
      "text/plain": [
       "2"
      ]
     },
     "execution_count": 104,
     "metadata": {},
     "output_type": "execute_result"
    }
   ],
   "source": [
    "# How many values are greater than the upper limit: greater than 1,000,000\n",
    "(salary_df['salary_in_usd'] >= 1000000).sum()"
   ]
  },
  {
   "cell_type": "code",
   "execution_count": 108,
   "id": "998dec47-bf27-4b9d-a9ed-34fc840fa952",
   "metadata": {},
   "outputs": [],
   "source": [
    "# Handling the 1 value below the lower limit: Replace the value less than 10000 with median value\n",
    "salary_df['salary_in_usd'] = salary_df['salary_in_usd'].where(salary_df['salary_in_usd'] >10000, salary_median)"
   ]
  },
  {
   "cell_type": "code",
   "execution_count": 110,
   "id": "9aa86ff4-2861-4d38-910b-a1a927a88ced",
   "metadata": {},
   "outputs": [],
   "source": [
    "# Handling the 2 value over the higher limit: Replace values greater than 1000000 with median value\n",
    "salary_df['salary_in_usd'] = salary_df['salary_in_usd'].where(salary_df['salary_in_usd'] <1000000, salary_median)"
   ]
  },
  {
   "cell_type": "markdown",
   "id": "1ada10e5-3e10-42e7-a607-140a0b6f1b3f",
   "metadata": {},
   "source": [
    "##### STEP 7: *Save the cleaned data for further analysis*\n",
    "\n",
    "Now that all the missing values, outliers and other inconsistencies have been handled, we will save the cleaned and validated dataframe as clean_salaries"
   ]
  },
  {
   "cell_type": "code",
   "execution_count": 117,
   "id": "1af3be06-c55d-41af-8888-82b4bc8f56d6",
   "metadata": {},
   "outputs": [],
   "source": [
    "# Save the clean copy\n",
    "clean_salaries = salary_df.copy()"
   ]
  },
  {
   "cell_type": "code",
   "execution_count": 115,
   "id": "28c25cc1-bb99-4b7d-ba42-780e328cf85d",
   "metadata": {},
   "outputs": [
    {
     "data": {
      "text/html": [
       "<div>\n",
       "<style scoped>\n",
       "    .dataframe tbody tr th:only-of-type {\n",
       "        vertical-align: middle;\n",
       "    }\n",
       "\n",
       "    .dataframe tbody tr th {\n",
       "        vertical-align: top;\n",
       "    }\n",
       "\n",
       "    .dataframe thead th {\n",
       "        text-align: right;\n",
       "    }\n",
       "</style>\n",
       "<table border=\"1\" class=\"dataframe\">\n",
       "  <thead>\n",
       "    <tr style=\"text-align: right;\">\n",
       "      <th></th>\n",
       "      <th>work_year</th>\n",
       "      <th>experience_level</th>\n",
       "      <th>employment_type</th>\n",
       "      <th>job_title</th>\n",
       "      <th>salary_in_usd</th>\n",
       "      <th>remote_ratio</th>\n",
       "      <th>company_location</th>\n",
       "      <th>company_size</th>\n",
       "    </tr>\n",
       "  </thead>\n",
       "  <tbody>\n",
       "    <tr>\n",
       "      <th>0</th>\n",
       "      <td>2022</td>\n",
       "      <td>SE</td>\n",
       "      <td>CT</td>\n",
       "      <td>Data Scientist</td>\n",
       "      <td>42183</td>\n",
       "      <td>50</td>\n",
       "      <td>IN</td>\n",
       "      <td>L</td>\n",
       "    </tr>\n",
       "    <tr>\n",
       "      <th>1</th>\n",
       "      <td>2023</td>\n",
       "      <td>MI</td>\n",
       "      <td>FL</td>\n",
       "      <td>Data Scientist</td>\n",
       "      <td>190371</td>\n",
       "      <td>100</td>\n",
       "      <td>IN</td>\n",
       "      <td>S</td>\n",
       "    </tr>\n",
       "    <tr>\n",
       "      <th>3</th>\n",
       "      <td>2022</td>\n",
       "      <td>EN</td>\n",
       "      <td>FT</td>\n",
       "      <td>ML Engineer</td>\n",
       "      <td>146336</td>\n",
       "      <td>50</td>\n",
       "      <td>DE</td>\n",
       "      <td>S</td>\n",
       "    </tr>\n",
       "    <tr>\n",
       "      <th>4</th>\n",
       "      <td>2022</td>\n",
       "      <td>MI</td>\n",
       "      <td>FL</td>\n",
       "      <td>ML Engineer</td>\n",
       "      <td>156257</td>\n",
       "      <td>100</td>\n",
       "      <td>NG</td>\n",
       "      <td>L</td>\n",
       "    </tr>\n",
       "    <tr>\n",
       "      <th>5</th>\n",
       "      <td>2023</td>\n",
       "      <td>MI</td>\n",
       "      <td>FT</td>\n",
       "      <td>Data Scientist</td>\n",
       "      <td>35539</td>\n",
       "      <td>50</td>\n",
       "      <td>GB</td>\n",
       "      <td>S</td>\n",
       "    </tr>\n",
       "    <tr>\n",
       "      <th>6</th>\n",
       "      <td>2020</td>\n",
       "      <td>EN</td>\n",
       "      <td>FL</td>\n",
       "      <td>AI Specialist</td>\n",
       "      <td>214423</td>\n",
       "      <td>100</td>\n",
       "      <td>DE</td>\n",
       "      <td>XL</td>\n",
       "    </tr>\n",
       "    <tr>\n",
       "      <th>7</th>\n",
       "      <td>2020</td>\n",
       "      <td>EX</td>\n",
       "      <td>FL</td>\n",
       "      <td>ML Engineer</td>\n",
       "      <td>222339</td>\n",
       "      <td>50</td>\n",
       "      <td>IN</td>\n",
       "      <td>S</td>\n",
       "    </tr>\n",
       "    <tr>\n",
       "      <th>9</th>\n",
       "      <td>2021</td>\n",
       "      <td>SE</td>\n",
       "      <td>FT</td>\n",
       "      <td>ML Engineer</td>\n",
       "      <td>156257</td>\n",
       "      <td>100</td>\n",
       "      <td>IN</td>\n",
       "      <td>M</td>\n",
       "    </tr>\n",
       "    <tr>\n",
       "      <th>10</th>\n",
       "      <td>2022</td>\n",
       "      <td>EX</td>\n",
       "      <td>CT</td>\n",
       "      <td>AI Specialist</td>\n",
       "      <td>163629</td>\n",
       "      <td>50</td>\n",
       "      <td>US</td>\n",
       "      <td>S</td>\n",
       "    </tr>\n",
       "    <tr>\n",
       "      <th>11</th>\n",
       "      <td>2022</td>\n",
       "      <td>SE</td>\n",
       "      <td>CT</td>\n",
       "      <td>Data Analyst</td>\n",
       "      <td>68360</td>\n",
       "      <td>50</td>\n",
       "      <td>IN</td>\n",
       "      <td>M</td>\n",
       "    </tr>\n",
       "  </tbody>\n",
       "</table>\n",
       "</div>"
      ],
      "text/plain": [
       "    work_year experience_level employment_type       job_title  salary_in_usd  \\\n",
       "0        2022               SE              CT  Data Scientist          42183   \n",
       "1        2023               MI              FL  Data Scientist         190371   \n",
       "3        2022               EN              FT     ML Engineer         146336   \n",
       "4        2022               MI              FL     ML Engineer         156257   \n",
       "5        2023               MI              FT  Data Scientist          35539   \n",
       "6        2020               EN              FL   AI Specialist         214423   \n",
       "7        2020               EX              FL     ML Engineer         222339   \n",
       "9        2021               SE              FT     ML Engineer         156257   \n",
       "10       2022               EX              CT   AI Specialist         163629   \n",
       "11       2022               SE              CT    Data Analyst          68360   \n",
       "\n",
       "    remote_ratio company_location company_size  \n",
       "0             50               IN            L  \n",
       "1            100               IN            S  \n",
       "3             50               DE            S  \n",
       "4            100               NG            L  \n",
       "5             50               GB            S  \n",
       "6            100               DE           XL  \n",
       "7             50               IN            S  \n",
       "9            100               IN            M  \n",
       "10            50               US            S  \n",
       "11            50               IN            M  "
      ]
     },
     "execution_count": 115,
     "metadata": {},
     "output_type": "execute_result"
    }
   ],
   "source": [
    "# Check the first 10 rows of the cleaned data\n",
    "clean_salaries.head(10)"
   ]
  },
  {
   "cell_type": "code",
   "execution_count": 119,
   "id": "6f6cbda9-f048-4f23-9ff0-96bc98580995",
   "metadata": {},
   "outputs": [
    {
     "data": {
      "text/plain": [
       "work_year           0\n",
       "experience_level    0\n",
       "employment_type     0\n",
       "job_title           0\n",
       "salary_in_usd       0\n",
       "remote_ratio        0\n",
       "company_location    0\n",
       "company_size        0\n",
       "dtype: int64"
      ]
     },
     "execution_count": 119,
     "metadata": {},
     "output_type": "execute_result"
    }
   ],
   "source": [
    "# Crosscheck for missingness\n",
    "clean_salaries.isna().sum()"
   ]
  },
  {
   "cell_type": "code",
   "execution_count": 121,
   "id": "fb35ad0f-8916-4eba-ad80-33340e3e62c8",
   "metadata": {},
   "outputs": [
    {
     "data": {
      "text/html": [
       "<div>\n",
       "<style scoped>\n",
       "    .dataframe tbody tr th:only-of-type {\n",
       "        vertical-align: middle;\n",
       "    }\n",
       "\n",
       "    .dataframe tbody tr th {\n",
       "        vertical-align: top;\n",
       "    }\n",
       "\n",
       "    .dataframe thead th {\n",
       "        text-align: right;\n",
       "    }\n",
       "</style>\n",
       "<table border=\"1\" class=\"dataframe\">\n",
       "  <thead>\n",
       "    <tr style=\"text-align: right;\">\n",
       "      <th></th>\n",
       "      <th>work_year</th>\n",
       "      <th>experience_level</th>\n",
       "      <th>employment_type</th>\n",
       "      <th>job_title</th>\n",
       "      <th>salary_in_usd</th>\n",
       "      <th>remote_ratio</th>\n",
       "      <th>company_location</th>\n",
       "      <th>company_size</th>\n",
       "    </tr>\n",
       "  </thead>\n",
       "  <tbody>\n",
       "    <tr>\n",
       "      <th>count</th>\n",
       "      <td>95</td>\n",
       "      <td>95</td>\n",
       "      <td>95</td>\n",
       "      <td>95</td>\n",
       "      <td>95</td>\n",
       "      <td>95</td>\n",
       "      <td>95</td>\n",
       "      <td>95</td>\n",
       "    </tr>\n",
       "    <tr>\n",
       "      <th>unique</th>\n",
       "      <td>NaN</td>\n",
       "      <td>4</td>\n",
       "      <td>4</td>\n",
       "      <td>4</td>\n",
       "      <td>NaN</td>\n",
       "      <td>NaN</td>\n",
       "      <td>5</td>\n",
       "      <td>4</td>\n",
       "    </tr>\n",
       "    <tr>\n",
       "      <th>top</th>\n",
       "      <td>NaN</td>\n",
       "      <td>EN</td>\n",
       "      <td>FT</td>\n",
       "      <td>AI Specialist</td>\n",
       "      <td>NaN</td>\n",
       "      <td>NaN</td>\n",
       "      <td>IN</td>\n",
       "      <td>S</td>\n",
       "    </tr>\n",
       "    <tr>\n",
       "      <th>freq</th>\n",
       "      <td>NaN</td>\n",
       "      <td>33</td>\n",
       "      <td>32</td>\n",
       "      <td>32</td>\n",
       "      <td>NaN</td>\n",
       "      <td>NaN</td>\n",
       "      <td>23</td>\n",
       "      <td>35</td>\n",
       "    </tr>\n",
       "    <tr>\n",
       "      <th>mean</th>\n",
       "      <td>2022</td>\n",
       "      <td>NaN</td>\n",
       "      <td>NaN</td>\n",
       "      <td>NaN</td>\n",
       "      <td>146320</td>\n",
       "      <td>51</td>\n",
       "      <td>NaN</td>\n",
       "      <td>NaN</td>\n",
       "    </tr>\n",
       "    <tr>\n",
       "      <th>std</th>\n",
       "      <td>1</td>\n",
       "      <td>NaN</td>\n",
       "      <td>NaN</td>\n",
       "      <td>NaN</td>\n",
       "      <td>59196</td>\n",
       "      <td>38</td>\n",
       "      <td>NaN</td>\n",
       "      <td>NaN</td>\n",
       "    </tr>\n",
       "    <tr>\n",
       "      <th>min</th>\n",
       "      <td>2020</td>\n",
       "      <td>NaN</td>\n",
       "      <td>NaN</td>\n",
       "      <td>NaN</td>\n",
       "      <td>32869</td>\n",
       "      <td>0</td>\n",
       "      <td>NaN</td>\n",
       "      <td>NaN</td>\n",
       "    </tr>\n",
       "    <tr>\n",
       "      <th>25%</th>\n",
       "      <td>2021</td>\n",
       "      <td>NaN</td>\n",
       "      <td>NaN</td>\n",
       "      <td>NaN</td>\n",
       "      <td>97998</td>\n",
       "      <td>0</td>\n",
       "      <td>NaN</td>\n",
       "      <td>NaN</td>\n",
       "    </tr>\n",
       "    <tr>\n",
       "      <th>50%</th>\n",
       "      <td>2022</td>\n",
       "      <td>NaN</td>\n",
       "      <td>NaN</td>\n",
       "      <td>NaN</td>\n",
       "      <td>156257</td>\n",
       "      <td>50</td>\n",
       "      <td>NaN</td>\n",
       "      <td>NaN</td>\n",
       "    </tr>\n",
       "    <tr>\n",
       "      <th>75%</th>\n",
       "      <td>2023</td>\n",
       "      <td>NaN</td>\n",
       "      <td>NaN</td>\n",
       "      <td>NaN</td>\n",
       "      <td>193762</td>\n",
       "      <td>100</td>\n",
       "      <td>NaN</td>\n",
       "      <td>NaN</td>\n",
       "    </tr>\n",
       "    <tr>\n",
       "      <th>max</th>\n",
       "      <td>2023</td>\n",
       "      <td>NaN</td>\n",
       "      <td>NaN</td>\n",
       "      <td>NaN</td>\n",
       "      <td>247903</td>\n",
       "      <td>100</td>\n",
       "      <td>NaN</td>\n",
       "      <td>NaN</td>\n",
       "    </tr>\n",
       "  </tbody>\n",
       "</table>\n",
       "</div>"
      ],
      "text/plain": [
       "        work_year experience_level employment_type      job_title  \\\n",
       "count          95               95              95             95   \n",
       "unique        NaN                4               4              4   \n",
       "top           NaN               EN              FT  AI Specialist   \n",
       "freq          NaN               33              32             32   \n",
       "mean         2022              NaN             NaN            NaN   \n",
       "std             1              NaN             NaN            NaN   \n",
       "min          2020              NaN             NaN            NaN   \n",
       "25%          2021              NaN             NaN            NaN   \n",
       "50%          2022              NaN             NaN            NaN   \n",
       "75%          2023              NaN             NaN            NaN   \n",
       "max          2023              NaN             NaN            NaN   \n",
       "\n",
       "        salary_in_usd  remote_ratio company_location company_size  \n",
       "count              95            95               95           95  \n",
       "unique            NaN           NaN                5            4  \n",
       "top               NaN           NaN               IN            S  \n",
       "freq              NaN           NaN               23           35  \n",
       "mean           146320            51              NaN          NaN  \n",
       "std             59196            38              NaN          NaN  \n",
       "min             32869             0              NaN          NaN  \n",
       "25%             97998             0              NaN          NaN  \n",
       "50%            156257            50              NaN          NaN  \n",
       "75%            193762           100              NaN          NaN  \n",
       "max            247903           100              NaN          NaN  "
      ]
     },
     "execution_count": 121,
     "metadata": {},
     "output_type": "execute_result"
    }
   ],
   "source": [
    "# Check the summary statistics\n",
    "clean_salaries.describe(include='all')"
   ]
  },
  {
   "cell_type": "markdown",
   "id": "fac82a97-dc19-4c68-aa33-84abdf95e670",
   "metadata": {},
   "source": [
    "### *NOTES*\n",
    "\n",
    "- Only 5% of data was lost during cleaning\n",
    "- The inconsistencies in Job Title reported was the reason for this lost data\n",
    "- The report covered records from 4 years starting in 2020 and ending in 2023\n",
    "- Most popular employment type was **FT** - Full Time, and AI Specailist was the top role in the dataset\n",
    "- Most of the companies were Small scale businesses\n",
    "\n",
    "*Adjustment made*\n",
    "- Missing values in the experience level column were replaced with **'EN'**\n",
    "- Missing values in the employment type column were replaced with **'FT'**\n",
    "- Missing values in the company location column were replaced with **'US'**\n",
    "- Missing values in the salary columnn were replaced with The Median Value which is **156,257 US Dollars** per annum\n",
    "- Any Salary value less than **10,000 US Dollars** or higher than **1,000,000 US Dollars** was considered to be an outlier and was replace with the Median Value\n",
    "\n",
    "*Assumptions*\n",
    "\n",
    "We will be using the following assumptions going forward with the analysis\n",
    "1. EN = Entry-Level\n",
    "2. MI = Mid-Level\n",
    "3. SE = Senior-Level\n",
    "4. EX = Executive-Level\n",
    "5. FT = Full-Time\n",
    "6. PT = Part-Time\n",
    "7. CT = Contract\n",
    "8. FL = Freelance"
   ]
  },
  {
   "cell_type": "markdown",
   "id": "b5c90f22-aa8c-4f52-89e0-39996a94a277",
   "metadata": {},
   "source": [
    "#### **TASK 2: SALARY TREND BY EXPERIENCE**\n",
    "Here, we will investigate how experience level affects average salary across employment types"
   ]
  },
  {
   "cell_type": "code",
   "execution_count": 135,
   "id": "097d936b-4814-4714-bba1-5be794fd3fa5",
   "metadata": {},
   "outputs": [
    {
     "data": {
      "text/plain": [
       "experience_level  employment_type\n",
       "EN                CT                  5\n",
       "                  FL                 12\n",
       "                  FT                  9\n",
       "                  PT                  7\n",
       "EX                CT                  5\n",
       "                  FL                  4\n",
       "                  FT                  8\n",
       "                  PT                  2\n",
       "MI                CT                  4\n",
       "                  FL                  4\n",
       "                  FT                  4\n",
       "                  PT                  4\n",
       "SE                CT                  6\n",
       "                  FL                  4\n",
       "                  FT                 11\n",
       "                  PT                  6\n",
       "dtype: int64"
      ]
     },
     "execution_count": 135,
     "metadata": {},
     "output_type": "execute_result"
    }
   ],
   "source": [
    "# STEP 1: Group by 2 columns - experience level and employment type\n",
    "group_1 = clean_salaries.groupby(['experience_level', 'employment_type'])\n",
    "\n",
    "# Display the result\n",
    "group_1.size()"
   ]
  },
  {
   "cell_type": "markdown",
   "id": "191ce240-ba4f-4768-afb0-66b23a51c134",
   "metadata": {},
   "source": [
    "#### *Observations*\n",
    "\n",
    "+ At every experience level (EN, MI, SE, EX), we find significant full-time representation. This is most prominent in Senior-Level with 11 occurrences and Entry with 9 occurrences. This suggests that full-time employment remains the standard engagement type, regardless of experience level.\n",
    "\n",
    "+ Entry-level roles are most spread across all four employment types, with freelance having the single highest representation in the dataset. Since entry-levels are junior talents, this might indicate two things:\n",
    "  1. Employers are experimenting more with flexible, short-term, or freelance arrangements for junior talents, or\n",
    "  2. There are higher volume of entry-level roles overall, which is common in scalable teams or internships and is the case here in the dataset.\n",
    "\n",
    "+ Executives have fewer freelance 4 and Part-Time 2 occurrences, they tend to lean more toward Full-Time and less Freelance. This implies executive roles are more formalized, high-stakes, and less likely to be part-time or project-based.\n",
    "\n",
    "+ Senior roles appear to be balanced but FT-inclined, with 11 occurrences in full-time and fair distribution of 6 occurrences in Contract and Part-Time also. This indicates that, some senior experts are also working in flexible leadership capacities.\n",
    "\n",
    "+ Mid-Level shows a perfectly even split; *safe to say that mid-levels are everywhere*. Each employment type has exactly 4 occurrences for mid-level experience. Might suggest that mid-level professionals are highly adaptable or in demand across all work modes."
   ]
  },
  {
   "cell_type": "code",
   "execution_count": 469,
   "id": "4e5e2797-d3fd-4a8d-8d6e-b136ad9b3c13",
   "metadata": {},
   "outputs": [
    {
     "data": {
      "text/plain": [
       "experience_level  employment_type\n",
       "EN                CT                 92872\n",
       "                  FL                160093\n",
       "                  FT                132981\n",
       "                  PT                165242\n",
       "EX                CT                166817\n",
       "                  FL                163361\n",
       "                  FT                175003\n",
       "                  PT                112362\n",
       "MI                CT                170697\n",
       "                  FL                128970\n",
       "                  FT                116324\n",
       "                  PT                131638\n",
       "SE                CT                127804\n",
       "                  FL                129453\n",
       "                  FT                140822\n",
       "                  PT                170818\n",
       "Name: salary_in_usd, dtype: float64"
      ]
     },
     "execution_count": 469,
     "metadata": {},
     "output_type": "execute_result"
    }
   ],
   "source": [
    "# STEP 2: Compute the average salary in usd across the group\n",
    "clean_salaries.groupby(['experience_level', 'employment_type'])['salary_in_usd'].mean()"
   ]
  },
  {
   "cell_type": "code",
   "execution_count": 141,
   "id": "7efa1177-bb59-49a6-bdc7-ce1b527746e7",
   "metadata": {},
   "outputs": [
    {
     "data": {
      "text/html": [
       "<div>\n",
       "<style scoped>\n",
       "    .dataframe tbody tr th:only-of-type {\n",
       "        vertical-align: middle;\n",
       "    }\n",
       "\n",
       "    .dataframe tbody tr th {\n",
       "        vertical-align: top;\n",
       "    }\n",
       "\n",
       "    .dataframe thead th {\n",
       "        text-align: right;\n",
       "    }\n",
       "</style>\n",
       "<table border=\"1\" class=\"dataframe\">\n",
       "  <thead>\n",
       "    <tr style=\"text-align: right;\">\n",
       "      <th></th>\n",
       "      <th>experience_level</th>\n",
       "      <th>employment_type</th>\n",
       "      <th>salary_in_usd</th>\n",
       "    </tr>\n",
       "  </thead>\n",
       "  <tbody>\n",
       "    <tr>\n",
       "      <th>0</th>\n",
       "      <td>EN</td>\n",
       "      <td>CT</td>\n",
       "      <td>92872</td>\n",
       "    </tr>\n",
       "    <tr>\n",
       "      <th>1</th>\n",
       "      <td>EN</td>\n",
       "      <td>FL</td>\n",
       "      <td>160093</td>\n",
       "    </tr>\n",
       "    <tr>\n",
       "      <th>2</th>\n",
       "      <td>EN</td>\n",
       "      <td>FT</td>\n",
       "      <td>132981</td>\n",
       "    </tr>\n",
       "    <tr>\n",
       "      <th>3</th>\n",
       "      <td>EN</td>\n",
       "      <td>PT</td>\n",
       "      <td>165242</td>\n",
       "    </tr>\n",
       "    <tr>\n",
       "      <th>4</th>\n",
       "      <td>EX</td>\n",
       "      <td>CT</td>\n",
       "      <td>166817</td>\n",
       "    </tr>\n",
       "    <tr>\n",
       "      <th>5</th>\n",
       "      <td>EX</td>\n",
       "      <td>FL</td>\n",
       "      <td>163361</td>\n",
       "    </tr>\n",
       "    <tr>\n",
       "      <th>6</th>\n",
       "      <td>EX</td>\n",
       "      <td>FT</td>\n",
       "      <td>175003</td>\n",
       "    </tr>\n",
       "    <tr>\n",
       "      <th>7</th>\n",
       "      <td>EX</td>\n",
       "      <td>PT</td>\n",
       "      <td>112362</td>\n",
       "    </tr>\n",
       "    <tr>\n",
       "      <th>8</th>\n",
       "      <td>MI</td>\n",
       "      <td>CT</td>\n",
       "      <td>170697</td>\n",
       "    </tr>\n",
       "    <tr>\n",
       "      <th>9</th>\n",
       "      <td>MI</td>\n",
       "      <td>FL</td>\n",
       "      <td>128970</td>\n",
       "    </tr>\n",
       "    <tr>\n",
       "      <th>10</th>\n",
       "      <td>MI</td>\n",
       "      <td>FT</td>\n",
       "      <td>116324</td>\n",
       "    </tr>\n",
       "    <tr>\n",
       "      <th>11</th>\n",
       "      <td>MI</td>\n",
       "      <td>PT</td>\n",
       "      <td>131638</td>\n",
       "    </tr>\n",
       "    <tr>\n",
       "      <th>12</th>\n",
       "      <td>SE</td>\n",
       "      <td>CT</td>\n",
       "      <td>127804</td>\n",
       "    </tr>\n",
       "    <tr>\n",
       "      <th>13</th>\n",
       "      <td>SE</td>\n",
       "      <td>FL</td>\n",
       "      <td>129453</td>\n",
       "    </tr>\n",
       "    <tr>\n",
       "      <th>14</th>\n",
       "      <td>SE</td>\n",
       "      <td>FT</td>\n",
       "      <td>140822</td>\n",
       "    </tr>\n",
       "    <tr>\n",
       "      <th>15</th>\n",
       "      <td>SE</td>\n",
       "      <td>PT</td>\n",
       "      <td>170818</td>\n",
       "    </tr>\n",
       "  </tbody>\n",
       "</table>\n",
       "</div>"
      ],
      "text/plain": [
       "   experience_level employment_type  salary_in_usd\n",
       "0                EN              CT          92872\n",
       "1                EN              FL         160093\n",
       "2                EN              FT         132981\n",
       "3                EN              PT         165242\n",
       "4                EX              CT         166817\n",
       "5                EX              FL         163361\n",
       "6                EX              FT         175003\n",
       "7                EX              PT         112362\n",
       "8                MI              CT         170697\n",
       "9                MI              FL         128970\n",
       "10               MI              FT         116324\n",
       "11               MI              PT         131638\n",
       "12               SE              CT         127804\n",
       "13               SE              FL         129453\n",
       "14               SE              FT         140822\n",
       "15               SE              PT         170818"
      ]
     },
     "execution_count": 141,
     "metadata": {},
     "output_type": "execute_result"
    }
   ],
   "source": [
    "# STEP 3: Save the new group as a dataframe named: salary_trend\n",
    "salary_trends = clean_salaries.groupby(['experience_level', 'employment_type'])['salary_in_usd'].mean().reset_index()\n",
    "\n",
    "# Show the resulting dataframe\n",
    "salary_trends"
   ]
  },
  {
   "cell_type": "code",
   "execution_count": 143,
   "id": "d73166f0-a30f-454c-8ac1-50f009643944",
   "metadata": {},
   "outputs": [
    {
     "data": {
      "text/html": [
       "<div>\n",
       "<style scoped>\n",
       "    .dataframe tbody tr th:only-of-type {\n",
       "        vertical-align: middle;\n",
       "    }\n",
       "\n",
       "    .dataframe tbody tr th {\n",
       "        vertical-align: top;\n",
       "    }\n",
       "\n",
       "    .dataframe thead th {\n",
       "        text-align: right;\n",
       "    }\n",
       "</style>\n",
       "<table border=\"1\" class=\"dataframe\">\n",
       "  <thead>\n",
       "    <tr style=\"text-align: right;\">\n",
       "      <th>employment_type</th>\n",
       "      <th>CT</th>\n",
       "      <th>FL</th>\n",
       "      <th>FT</th>\n",
       "      <th>PT</th>\n",
       "    </tr>\n",
       "    <tr>\n",
       "      <th>experience_level</th>\n",
       "      <th></th>\n",
       "      <th></th>\n",
       "      <th></th>\n",
       "      <th></th>\n",
       "    </tr>\n",
       "  </thead>\n",
       "  <tbody>\n",
       "    <tr>\n",
       "      <th>EN</th>\n",
       "      <td>92872</td>\n",
       "      <td>160093</td>\n",
       "      <td>132981</td>\n",
       "      <td>165242</td>\n",
       "    </tr>\n",
       "    <tr>\n",
       "      <th>EX</th>\n",
       "      <td>166817</td>\n",
       "      <td>163361</td>\n",
       "      <td>175003</td>\n",
       "      <td>112362</td>\n",
       "    </tr>\n",
       "    <tr>\n",
       "      <th>MI</th>\n",
       "      <td>170697</td>\n",
       "      <td>128970</td>\n",
       "      <td>116324</td>\n",
       "      <td>131638</td>\n",
       "    </tr>\n",
       "    <tr>\n",
       "      <th>SE</th>\n",
       "      <td>127804</td>\n",
       "      <td>129453</td>\n",
       "      <td>140822</td>\n",
       "      <td>170818</td>\n",
       "    </tr>\n",
       "  </tbody>\n",
       "</table>\n",
       "</div>"
      ],
      "text/plain": [
       "employment_type      CT     FL     FT     PT\n",
       "experience_level                            \n",
       "EN                92872 160093 132981 165242\n",
       "EX               166817 163361 175003 112362\n",
       "MI               170697 128970 116324 131638\n",
       "SE               127804 129453 140822 170818"
      ]
     },
     "execution_count": 143,
     "metadata": {},
     "output_type": "execute_result"
    }
   ],
   "source": [
    "# STEP 4: Pivot the dataframe to better show the variations in average salary for the groups in a matrix format\n",
    "salary_trends_pivot = salary_trends.pivot(index='experience_level', columns='employment_type', values='salary_in_usd')\n",
    "\n",
    "# To display the result\n",
    "salary_trends_pivot"
   ]
  },
  {
   "cell_type": "code",
   "execution_count": 150,
   "id": "626c03e0-fc2c-4379-a20f-7b9ee8880110",
   "metadata": {},
   "outputs": [
    {
     "data": {
      "image/png": "[encoded data removed]",
      "text/plain": [
       "<Figure size 640x480 with 1 Axes>"
      ]
     },
     "metadata": {},
     "output_type": "display_data"
    }
   ],
   "source": [
    "# STEP 5: Plot the stacked bar chart\n",
    "salary_trends_pivot.plot(kind='bar', stacked=True)\n",
    "\n",
    "# Add axis labels, titles and legend\n",
    "plt.title('Average Salary by Experience Level and Employment Type')\n",
    "plt.xlabel('Experience Level') # Horizontal axis label\n",
    "plt.ylabel('Average Salary (USD)') # Vertical axis label\n",
    "plt.legend(title='Employment Type', bbox_to_anchor=(1, 1), loc='upper left') # Adjust the legend to display outside of the plot within the figure\n",
    "plt.grid(axis='y', linestyle='--', alpha=0.7) # Show Horizontal grid line on the y axis for easy matching of data points\n",
    "\n",
    "# Show plot\n",
    "plt.show()"
   ]
  },
  {
   "cell_type": "markdown",
   "id": "cc95e744-22a0-4331-a43a-0110f2595e60",
   "metadata": {
    "jp-MarkdownHeadingCollapsed": true
   },
   "source": [
    "### *Findings*\n",
    "\n",
    "+ FT salaries increase with seniority, peaking at *175,003 dollars* for Executives. However, we notice a dip at Mid-level, which is possibly due to under-leveled roles or under-compensation.\n",
    "+ Surprisingly, Entry-level Part-Time roles have the highest average of all EN roles: *165,242 dollars*, even higher than FT. But the least lucrative role is Entry-level on Contract with an average of less than *100,000 dollars per annum*.\n",
    "+ Senior Part-Time roles also lead at *170,818 dollars*, beating FT and other modes.\n",
    "+ Freelance and Contract work pays competitively across all levels, often matching or exceeding full-time.\n",
    "+ For executive, contract & freelance work pays very well. Contract paying *166,817 dollars* and Freelance paying *163,361 dollars* on average for Executives rival full-time rates. This shows that fractional executive roles like interim CTOs and consultants are in high demand and also well-paid.\n",
    "+ Another surprising find is that: Mid-level contract workers earn *170,697 dollars* on average annually, which is the second-highest salary across the entire table. This might mean that there is a growing trend of mid-career professionals, who are contracting out their specialized skills instead of taking full-time roles."
   ]
  },
  {
   "cell_type": "markdown",
   "id": "0ab8d5e8-0ea8-451e-bedd-e47c98f28fe3",
   "metadata": {},
   "source": [
    "### **TASK 3: Remote Work Analysis**\n",
    "#### *Target: Analyze and discuss the effect of remote work on salaries*\n",
    "\n",
    "##### Step Taken: \n",
    "1. Subset the clean dataframe to get the data for fully remote and fully on-site staff, discarding the hybrid workers.\n",
    "2. Calculate the average salaries in USD for each subset.\n",
    "3. Present the result in a new Dataframe\n",
    "4. Plot a simply chart to show the result and discuss findings\n",
    "5. Calculate the salary difference in percentage"
   ]
  },
  {
   "cell_type": "code",
   "execution_count": 158,
   "id": "d20f5ae6-0a62-4d42-9ca7-04a4474e280a",
   "metadata": {},
   "outputs": [],
   "source": [
    "# STEP 1a: Subset the dataframe to include only information for ONSITE roles; where remote ratio is 0\n",
    "onsite_df = clean_salaries[clean_salaries['remote_ratio'] == 0]\n"
   ]
  },
  {
   "cell_type": "code",
   "execution_count": 160,
   "id": "7b69ea77-0a63-47f0-b2ee-71d1b94648d4",
   "metadata": {},
   "outputs": [],
   "source": [
    "# STEP 1b: Subset the dataframe to include only information for REMOTE roles; where remote ratio is 100\n",
    "remote_df = clean_salaries[clean_salaries['remote_ratio'] == 100]\n"
   ]
  },
  {
   "cell_type": "code",
   "execution_count": 168,
   "id": "2addae47-6cfa-4ec4-b500-89e498724aa2",
   "metadata": {},
   "outputs": [
    {
     "name": "stdout",
     "output_type": "stream",
     "text": [
      "This is the value for the average salary for fully remote roles: $145,306\n",
      "\n",
      "This is the value for the average salary for fully on-site roles: $153,439\n",
      "\n"
     ]
    }
   ],
   "source": [
    "# STEP 2: Calculate average salaries for each subset and save in a unique variable\n",
    "remote_avg_salary = remote_df['salary_in_usd'].mean() # Average value of salary for remote workers\n",
    "\n",
    "# Display the value for average remote salary\n",
    "print('This is the value for the average salary for fully remote roles: ${:,.0f}\\n'.format(remote_avg_salary))\n",
    "\n",
    "onsite_avg_salary = onsite_df['salary_in_usd'].mean() # Average value of salary for on-site workers\n",
    "\n",
    "# Display the value for average on-site salary\n",
    "print('This is the value for the average salary for fully on-site roles: ${:,.0f}\\n'.format(onsite_avg_salary))"
   ]
  },
  {
   "cell_type": "code",
   "execution_count": 206,
   "id": "83066052-76c0-40f1-adb9-f3a4c5d24595",
   "metadata": {},
   "outputs": [],
   "source": [
    "# STEP 3: Create a dictionary with the remote ratio salary data and from it create a DataFrame\n",
    "remote_ratio_salary_data = {\n",
    "                    'Work Mode': ['On-site', 'Remove'],\n",
    "                    'Average Salary USD': [onsite_avg_salary, remote_avg_salary]\n",
    "                    }\n",
    "\n",
    "# Create a dataframe from the dictionary\n",
    "remote_salary_comparison = pd.DataFrame(remote_ratio_salary_data)\n"
   ]
  },
  {
   "cell_type": "code",
   "execution_count": 208,
   "id": "7f32ed44-3579-410f-9916-36b468f40269",
   "metadata": {},
   "outputs": [
    {
     "data": {
      "text/html": [
       "<div>\n",
       "<style scoped>\n",
       "    .dataframe tbody tr th:only-of-type {\n",
       "        vertical-align: middle;\n",
       "    }\n",
       "\n",
       "    .dataframe tbody tr th {\n",
       "        vertical-align: top;\n",
       "    }\n",
       "\n",
       "    .dataframe thead th {\n",
       "        text-align: right;\n",
       "    }\n",
       "</style>\n",
       "<table border=\"1\" class=\"dataframe\">\n",
       "  <thead>\n",
       "    <tr style=\"text-align: right;\">\n",
       "      <th></th>\n",
       "      <th>Work Mode</th>\n",
       "      <th>Average Salary USD</th>\n",
       "    </tr>\n",
       "  </thead>\n",
       "  <tbody>\n",
       "    <tr>\n",
       "      <th>0</th>\n",
       "      <td>On-site</td>\n",
       "      <td>153439</td>\n",
       "    </tr>\n",
       "    <tr>\n",
       "      <th>1</th>\n",
       "      <td>Remove</td>\n",
       "      <td>145306</td>\n",
       "    </tr>\n",
       "  </tbody>\n",
       "</table>\n",
       "</div>"
      ],
      "text/plain": [
       "  Work Mode  Average Salary USD\n",
       "0   On-site              153439\n",
       "1    Remove              145306"
      ]
     },
     "execution_count": 208,
     "metadata": {},
     "output_type": "execute_result"
    }
   ],
   "source": [
    "# STEP 4a: Show the result\n",
    "remote_salary_comparison\n"
   ]
  },
  {
   "cell_type": "code",
   "execution_count": 210,
   "id": "a043b0d5-6efb-48fc-bb36-895a7d5ebc3f",
   "metadata": {},
   "outputs": [
    {
     "data": {
      "image/png": "[encoded data removed]",
      "text/plain": [
       "<Figure size 640x480 with 1 Axes>"
      ]
     },
     "metadata": {},
     "output_type": "display_data"
    }
   ],
   "source": [
    "# STEP 4b: Plot a bar chart to show the data, set the color to skyblue and salmon\n",
    "plt.bar(remote_salary_comparison['Work Mode'], remote_salary_comparison['Average Salary USD'], \n",
    "        color=['skyblue', 'salmon'])\n",
    "\n",
    "# Add labels to the axes and title\n",
    "plt.title('Average Salary Comparison: Remote vs On-site')\n",
    "plt.ylabel('AVERAGE SALARY (USD)')\n",
    "plt.xlabel('WORK MODE')\n",
    "\n",
    "# Add exact values to the bars and format to show as amount in USD\n",
    "for i, val in enumerate(remote_salary_comparison['Average Salary USD']):\n",
    "    plt.text(i, val + 1000, f'${val:,.0f}', ha='center', va='bottom', fontsize=8)\n",
    "\n",
    "plt.show()"
   ]
  },
  {
   "cell_type": "code",
   "execution_count": 212,
   "id": "a909c7a2-af65-4f0f-8ea1-22dbc45d685a",
   "metadata": {},
   "outputs": [
    {
     "name": "stdout",
     "output_type": "stream",
     "text": [
      "On-site roles earn 5.3% more than Remote roles on average.\n",
      "\n"
     ]
    }
   ],
   "source": [
    "# STEP 5: Calculate the difference in percentage\n",
    "\n",
    "# Difference between the Remote and On-site\n",
    "salary_diff = remote_salary_comparison['Average Salary USD'].iloc[0] - remote_salary_comparison['Average Salary USD'].iloc[1]\n",
    "\n",
    "# Calculate the percentage difference\n",
    "percent_diff = (salary_diff / remote_salary_comparison['Average Salary USD'].iloc[0]) * 100\n",
    "\n",
    "# Round up the value to 1 decimal place\n",
    "per_more = percent_diff.round(1)\n",
    "\n",
    "# display the result\n",
    "print('On-site roles earn {}% more than Remote roles on average.\\n'.format(per_more))"
   ]
  },
  {
   "cell_type": "markdown",
   "id": "9771a786-fd4f-400b-821e-72c3b46877df",
   "metadata": {},
   "source": [
    "### *FINDINGS*\n",
    "\n",
    "1. The above plot shows a slight difference in the average salary earned for remote and on-site roles. It shows that On-site staffs earns an average of *USD 153,000* per annum, which is around 5.3% more than their remote counterparts who earns an average of *USD 145,000* per annum.\n",
    "\n",
    "2. Contrary to common assumptions, the average salary for Remote roles is lower than that of On-site roles in this dataset. This could be due to a few reasons:\n",
    "    - Remote roles may be distributed across lower-cost regions, where companies adjust pay accordingly.\n",
    "    - There might be more senior or technical roles still on-site, which drive up the average.\n",
    "    - As remote work scales globally, many companies are now hiring more volume but at slightly lower pay points.\n",
    "      \n",
    "\n",
    "3. On the other hand, remote staff might earn less because their salaries would not factor certain components that on-site staff may benefit from, such as, *Transportation allowance*. And in some cases, the common practice of not making allowance for taxes for remote workers, especially those working from another country.\n",
    "\n",
    "4. From the employer's side of things, having more staff work remotely, can help the business to save considerable funds from overhead spending. Since they can save 5.6% from salaries alone and possibly also reduce cost of running an office on-site."
   ]
  },
  {
   "cell_type": "code",
   "execution_count": null,
   "id": "66187526-d40e-46fe-bc24-810b24904934",
   "metadata": {},
   "outputs": [],
   "source": []
  }
 ],
 "metadata": {
  "kernelspec": {
   "display_name": "Python [conda env:base] *",
   "language": "python",
   "name": "conda-base-py"
  },
  "language_info": {
   "codemirror_mode": {
    "name": "ipython",
    "version": 3
   },
   "file_extension": ".py",
   "mimetype": "text/x-python",
   "name": "python",
   "nbconvert_exporter": "python",
   "pygments_lexer": "ipython3",
   "version": "3.12.7"
  }
 },
 "nbformat": 4,
 "nbformat_minor": 5
}
